{
 "cells": [
  {
   "cell_type": "code",
   "execution_count": 4,
   "metadata": {},
   "outputs": [],
   "source": [
    "from crawling import AgodaHotelCrawler\n",
    "from hotelsurl import HotelURLManager\n",
    "import datetime\n",
    "\n",
    "\n",
    "def crawl_hotel(url):\n",
    "    crawler = AgodaHotelCrawler(url)\n",
    "    return crawler.crawl()"
   ]
  },
  {
   "cell_type": "code",
   "execution_count": 7,
   "metadata": {},
   "outputs": [],
   "source": [
    "# today \"yyyy-mm-dd\"\n",
    "\n",
    "today = str(datetime.date.today().strftime(\"%Y-%m-%d\"))\n",
    "tomorrow = str(datetime.date.today() + datetime.timedelta(days=1))"
   ]
  },
  {
   "cell_type": "code",
   "execution_count": 8,
   "metadata": {},
   "outputs": [
    {
     "name": "stdout",
     "output_type": "stream",
     "text": [
      "https://www.agoda.com/ko-kr/hotel-skypark-myeongdong-iii/hotel/seoul-kr.html?checkIn=2024-03-09&los=2\n",
      "https://www.booking.com/hotel/kr/skypark-myeongdong-3.ko.html?checkin=2024-03-09&checkout=2024-03-10&group_adults=2&group_children=0&no_rooms=1\n",
      "https://www.expedia.co.kr/Seoul-Hotels-HOTEL-SKYPARK-Myeongdong-III.h4465738.Hotel-Information?chkin=2024-03-09&chkout=2024-03-10\n",
      "https://kr.trip.com/hotels/detail/?hotelId=988482&checkIn=2024-03-09&checkOut=2024-03-10&adult=2&children=0\n",
      "https://place-site.yanolja.com/places/3001826\n",
      "https://www.yeogi.com/domestic-accommodations/6551?checkIn=2024-03-09&checkOut=2024-03-10&personal=2\n"
     ]
    }
   ],
   "source": [
    "hotel_manager = HotelURLManager('호텔 스카이파크 명동 3호점', today, tomorrow)\n",
    "print(hotel_manager.agoda_url())\n",
    "print(hotel_manager.booking_url())\n",
    "print(hotel_manager.expedia_url())\n",
    "print(hotel_manager.trip_url())\n",
    "print(hotel_manager.yanolja_url())\n",
    "print(hotel_manager.yeogi_url())"
   ]
  },
  {
   "cell_type": "code",
   "execution_count": 10,
   "metadata": {},
   "outputs": [
    {
     "data": {
      "text/plain": [
       "('호텔 스카이파크 명동 3호점 (Hotel Skypark Myeongdong III)',\n",
       "   room_price  ...                                       room_service\n",
       " 0     132129  ...     [서비스/혜택]취소 정책무료 Wi-Fi할부 결제 가능선택 사항조식: ₩ 30,000\n",
       " 1     142547  ...  [서비스/혜택]취소 정책커피 & 차, 무료 Wi-Fi, 식수/생수할부 결제 가능선택...\n",
       " \n",
       " [2 rows x 3 columns])"
      ]
     },
     "execution_count": 10,
     "metadata": {},
     "output_type": "execute_result"
    }
   ],
   "source": [
    "crawl_hotel(hotel_manager.agoda_url())"
   ]
  },
  {
   "cell_type": "code",
   "execution_count": null,
   "metadata": {},
   "outputs": [],
   "source": []
  },
  {
   "cell_type": "code",
   "execution_count": null,
   "metadata": {},
   "outputs": [],
   "source": []
  },
  {
   "cell_type": "code",
   "execution_count": 1,
   "metadata": {},
   "outputs": [],
   "source": [
    "from crawling import AgodaHotelCrawler\n",
    "\n",
    "def crawl_hotel(url):\n",
    "    crawler = AgodaHotelCrawler(url)\n",
    "    return crawler.crawl()\n",
    "\n",
    "\n",
    "# apply date\n",
    "\n",
    "class AgodaHotelURL:\n",
    "    def __init__(self, hotel_name, checkIn, los):\n",
    "        self.url = f\"https://www.agoda.com/ko-kr/{hotel_name}/hotel/seoul-kr.html?checkIn={checkIn}&los={los}\"\n",
    "        self.hotel_name = hotel_name\n",
    "    \n"
   ]
  },
  {
   "cell_type": "code",
   "execution_count": null,
   "metadata": {},
   "outputs": [],
   "source": [
    "https://www.agoda.com/ko-kr/hotel-skypark-myeongdong-iii/hotel/seoul-kr.html?finalPriceView=1&isShowMobileAppPrice=false&cid=1555740&numberOfBedrooms=&familyMode=false&adults=2&children=0&rooms=1&maxRooms=0&checkIn=2024-02-12&isCalendarCallout=false&childAges=&numberOfGuest=0&missingChildAges=false&travellerType=1&showReviewSubmissionEntry=false&currencyCode=KRW&isFreeOccSearch=false&isCityHaveAsq=false&los=1&searchrequestid=abfb6d8d-c554-4835-bac8-5a894783e804&ds=ufDaBef32hQzViDN\n",
    "https://www.agoda.com/ko-kr/loisir-hotel-seoul-myeongdong/hotel/seoul-kr.html?finalPriceView=1&isShowMobileAppPrice=false&cid=1555740&numberOfBedrooms=&familyMode=false&adults=2&children=0&rooms=1&maxRooms=0&checkIn=2024-02-12&isCalendarCallout=false&childAges=&numberOfGuest=0&missingChildAges=false&travellerType=1&showReviewSubmissionEntry=false&currencyCode=KRW&isFreeOccSearch=false&isCityHaveAsq=false&los=1&searchrequestid=b82af0ed-dca0-43a3-a3bd-5afee94b2a16&ds=ufDaBef32hQzViDN\n",
    "https://www.agoda.com/ko-kr/sotetsu-fresa-inn-seoul-myeong-dong/hotel/seoul-kr.html?finalPriceView=1&isShowMobileAppPrice=false&cid=1555740&numberOfBedrooms=&familyMode=false&adults=2&children=0&rooms=1&maxRooms=0&checkIn=2024-02-12&isCalendarCallout=false&childAges=&numberOfGuest=0&missingChildAges=false&travellerType=1&showReviewSubmissionEntry=false&currencyCode=KRW&isFreeOccSearch=false&isCityHaveAsq=false&tspTypes=1&los=1&searchrequestid=abfb6d8d-c554-4835-bac8-5a894783e804&ds=ufDaBef32hQzViDN\n",
    "https://www.agoda.com/ko-kr/nine-tree-hotel-myeong-dong/hotel/seoul-kr.html?finalPriceView=1&isShowMobileAppPrice=false&cid=1555740&numberOfBedrooms=&familyMode=false&adults=2&children=0&rooms=1&maxRooms=0&checkIn=2024-02-12&isCalendarCallout=false&childAges=&numberOfGuest=0&missingChildAges=false&travellerType=1&showReviewSubmissionEntry=false&currencyCode=KRW&isFreeOccSearch=false&isCityHaveAsq=false&los=1&searchrequestid=abfb6d8d-c554-4835-bac8-5a894783e804&ds=ufDaBef32hQzViDN\n",
    "https://www.agoda.com/ko-kr/prince-hotel-myeongdong/hotel/seoul-kr.html?finalPriceView=1&isShowMobileAppPrice=false&cid=1555740&numberOfBedrooms=&familyMode=false&adults=2&children=0&rooms=1&maxRooms=0&checkIn=2024-02-12&isCalendarCallout=false&childAges=&numberOfGuest=0&missingChildAges=false&travellerType=1&showReviewSubmissionEntry=false&currencyCode=KRW&isFreeOccSearch=false&isCityHaveAsq=false&tspTypes=2&los=1&searchrequestid=abfb6d8d-c554-4835-bac8-5a894783e804&ds=ufDaBef32hQzViDN\n",
    "https://www.agoda.com/ko-kr/stanford-hotel-myeongdong/hotel/seoul-kr.html?finalPriceView=1&isShowMobileAppPrice=false&cid=1555740&numberOfBedrooms=&familyMode=false&adults=2&children=0&rooms=1&maxRooms=0&checkIn=2024-02-12&isCalendarCallout=false&childAges=&numberOfGuest=0&missingChildAges=false&travellerType=1&showReviewSubmissionEntry=false&currencyCode=KRW&isFreeOccSearch=false&isCityHaveAsq=false&tspTypes=8&los=1&searchrequestid=abfb6d8d-c554-4835-bac8-5a894783e804&ds=ufDaBef32hQzViDN"
   ]
  },
  {
   "cell_type": "code",
   "execution_count": 7,
   "metadata": {},
   "outputs": [],
   "source": [
    "hotel_agoda_name = [\"hotel-skypark-myeongdong-iii\",\n",
    "                    \"loisir-hotel-seoul-myeongdong\",\n",
    "                    \"sotetsu-fresa-inn-seoul-myeong-dong\",\n",
    "                    \"nine-tree-hotel-myeong-dong\",\n",
    "                    \"prince-hotel-myeongdong\",\n",
    "                    \"stanford-hotel-myeongdong\"]"
   ]
  },
  {
   "cell_type": "code",
   "execution_count": 10,
   "metadata": {},
   "outputs": [],
   "source": [
    "checkIn = \"2024-03-8\"\n",
    "los = \"2\"\n",
    "hotel_agoda_url = [AgodaHotelURL(name, checkIn, los).url for name in hotel_agoda_name]"
   ]
  },
  {
   "cell_type": "code",
   "execution_count": 11,
   "metadata": {},
   "outputs": [
    {
     "data": {
      "text/plain": [
       "['https://www.agoda.com/ko-kr/hotel-skypark-myeongdong-iii/hotel/seoul-kr.html?checkIn=2024-03-8&los=2',\n",
       " 'https://www.agoda.com/ko-kr/loisir-hotel-seoul-myeongdong/hotel/seoul-kr.html?checkIn=2024-03-8&los=2',\n",
       " 'https://www.agoda.com/ko-kr/sotetsu-fresa-inn-seoul-myeong-dong/hotel/seoul-kr.html?checkIn=2024-03-8&los=2',\n",
       " 'https://www.agoda.com/ko-kr/nine-tree-hotel-myeong-dong/hotel/seoul-kr.html?checkIn=2024-03-8&los=2',\n",
       " 'https://www.agoda.com/ko-kr/prince-hotel-myeongdong/hotel/seoul-kr.html?checkIn=2024-03-8&los=2',\n",
       " 'https://www.agoda.com/ko-kr/stanford-hotel-myeongdong/hotel/seoul-kr.html?checkIn=2024-03-8&los=2']"
      ]
     },
     "execution_count": 11,
     "metadata": {},
     "output_type": "execute_result"
    }
   ],
   "source": [
    "hotel_agoda_url"
   ]
  },
  {
   "cell_type": "code",
   "execution_count": 12,
   "metadata": {},
   "outputs": [
    {
     "name": "stdout",
     "output_type": "stream",
     "text": [
      "호텔 스카이파크 명동 3호점 (Hotel Skypark Myeongdong III)\n",
      "  room_price                                          room_name  \\\n",
      "0     160736  스타샤인 스탠다드 더블룸 (Starshine Standard Double Room)...   \n",
      "1     160736  스타샤인 스탠다드 트윈룸 (Starshine Standard Twin Room)추천...   \n",
      "2     167869  스탠다드 더블 (침대 1개) (Standard Double (1 Bed))추천8.5...   \n",
      "3     164854  스탠다드 트윈 (싱글베드 2개) (Standard Twin (2 Single bed...   \n",
      "4     164854       스탠다드 더블룸 A (Standard Double Room A)4시간 전 예약됨   \n",
      "5     241113  쿼드러플룸(성인 4명) (Quadruple Room (4 Adults))가족 여행객...   \n",
      "\n",
      "                                        room_service  \n",
      "0  [서비스/혜택]취소 정책무료 Wi-Fi할부 결제 가능선택 사항조식: ₩ 30,000...  \n",
      "1  [서비스/혜택]취소 정책무료 Wi-Fi할부 결제 가능선택 사항조식: ₩ 30,000...  \n",
      "2  [서비스/혜택]특가 상품 - 환불 불가무료 Wi-Fi할부 결제 가능선택 사항조식: ...  \n",
      "3  [서비스/혜택]취소 정책무료 Wi-Fi할부 결제 가능선택 사항조식: ₩ 30,000...  \n",
      "4  [서비스/혜택]취소 정책무료 Wi-Fi할부 결제 가능기타 리워드 및 할인캐쉬백 리워...  \n",
      "5  [서비스/혜택]취소 정책무료 Wi-Fi할부 결제 가능선택 사항조식: ₩ 60,000...  \n",
      "밀리오레 호텔 서울 명동 (Migliore Hotel Seoul Myeongdong)\n",
      "Empty DataFrame\n",
      "Columns: [room_price, room_name, room_service]\n",
      "Index: []\n",
      "소테츠 프레사 인 서울 명동 (Sotetsu Fresa Inn Seoul Myeong-dong)\n",
      "  room_price                                          room_name  \\\n",
      "0     225901  슈페리어 더블룸 (Superior Double Room)41분 전 예약됨8.9우수객...   \n",
      "\n",
      "                            room_service  \n",
      "0  [서비스/혜택]특가 상품 - 환불 불가무료 Wi-Fi할부 결제 가능  \n",
      "나인트리 호텔 명동 (Nine Tree Hotel Myeong-dong)\n",
      "  room_price                                          room_name  \\\n",
      "0     211846  패밀리 트윈룸 (6PM 후 체크인) (Family Twin Room - Check-...   \n",
      "1     230526       패밀리 트윈 (Family Twin)가족 여행객8.9우수객실의 안락함 및 쾌적함   \n",
      "2     122137  스탠다드 싱글룸 (6PM 후 체크인) (Standard Single Room - C...   \n",
      "3     131355              싱글룸 (Single - Room)8.9우수객실의 안락함 및 쾌적함   \n",
      "\n",
      "                                        room_service  \n",
      "0  [서비스/혜택]취소 정책6PM 후 레이트 체크인, 커피 & 차, 무료 Wi-Fi, ...  \n",
      "1  [서비스/혜택]특가 상품 - 환불 불가무료 Wi-Fi할부 결제 가능선택 사항조식: ...  \n",
      "2  [서비스/혜택]취소 정책6PM 후 레이트 체크인, 커피 & 차, 무료 Wi-Fi, ...  \n",
      "3  [서비스/혜택]취소 정책커피 & 차, 무료 Wi-Fi, 식수/생수, 케이블 TV 채...  \n",
      "프린스 호텔 명동 (Prince Hotel Myeongdong)\n",
      "  room_price                                          room_name  \\\n",
      "0     138502            트윈룸 A (Twin Room A)추천8.8우수객실의 안락함 및 쾌적함   \n",
      "1     149451              트윈룸 B (Twin Room B)8.6우수객실의 안락함 및 쾌적함   \n",
      "2     156922     트윈룸 C (Twin Room C)5시간 전 예약됨8.7우수객실의 안락함 및 쾌적함   \n",
      "3     179340     트윈룸 R (Twin Room R)5시간 전 예약됨8.3우수객실의 안락함 및 쾌적함   \n",
      "4     205313             디럭스 트윈 (Deluxe Twin)8.8우수객실의 안락함 및 쾌적함   \n",
      "5     215568                             트리플룸 (Triple)5시간 전 예약됨   \n",
      "6     216671  온돌룸 (코리안 트레디셔널 스타일룸) (Ondol Room-Korean Tradit...   \n",
      "7     219626  디럭스 코너 트윈 (Deluxe Corner Twin)가족 여행객5시간 전 예약됨8...   \n",
      "8     231875                      스위트 (Suite)9.1최고객실의 안락함 및 쾌적함   \n",
      "\n",
      "                                        room_service  \n",
      "0  [서비스/혜택]특가 상품 - 환불 불가무료 Wi-Fi, 식수/생수할부 결제 가능기타...  \n",
      "1  [서비스/혜택]특가 상품 - 환불 불가무료 Wi-Fi, 식수/생수할부 결제 가능기타...  \n",
      "2  [서비스/혜택]특가 상품 - 환불 불가무료 Wi-Fi, 식수/생수할부 결제 가능기타...  \n",
      "3  [서비스/혜택]특가 상품 - 환불 불가무료 Wi-Fi, 식수/생수할부 결제 가능기타...  \n",
      "4  [서비스/혜택]체크인 전 예약 취소 시, 예약 무료 취소 가능무료 Wi-Fi할부 결...  \n",
      "5  [서비스/혜택]체크인 전 예약 취소 시, 예약 무료 취소 가능무료 Wi-Fi할부 결...  \n",
      "6  [서비스/혜택]특가 상품 - 환불 불가무료 Wi-Fi, 식수/생수할부 결제 가능기타...  \n",
      "7  [서비스/혜택]특가 상품 - 환불 불가무료 Wi-Fi, 식수/생수할부 결제 가능기타...  \n",
      "8  [서비스/혜택]특가 상품 - 환불 불가커피 & 차, 무료 Wi-Fi, 식수/생수할부...  \n",
      "스탠포드 호텔 명동 (Stanford Hotel Myeongdong)\n",
      "  room_price                                          room_name  \\\n",
      "0     212727  스탠다드 더블룸 (Standard Double Room)추천2시간 전 예약됨9.1최...   \n",
      "1     294546  디럭스룸 더블 (Deluxe Room Double)1시간 전 예약 됨9최고객실의 안...   \n",
      "2     355910  패밀리 트윈룸 (Family Twin Room)추천가족 여행객1시간 전 예약 됨9....   \n",
      "3     388637  코너 패밀리 트윈룸 (Corner Family Twin Room)가족 여행객8.9우...   \n",
      "4     427500  패밀리 트윈 엣지 룸 (Family Twin Edge Room)가족 여행객1시간 전...   \n",
      "\n",
      "                                        room_service  \n",
      "0  [서비스/혜택]취소 정책주차, 커피 & 차, 무료 Wi-Fi, 식수/생수, 피트니스...  \n",
      "1  [서비스/혜택]취소 정책주차, 무료 Wi-Fi, 피트니스 센터할부 결제 가능선택 사...  \n",
      "2  [서비스/혜택]취소 정책주차, 커피 & 차, 무료 Wi-Fi, 식수/생수, 피트니스...  \n",
      "3  [서비스/혜택]취소 정책주차, 무료 Wi-Fi, 피트니스 센터할부 결제 가능선택 사...  \n",
      "4  [서비스/혜택]취소 정책숙소에서 요금 결제무료 Wi-Fi, 피트니스 센터선택 사항조...  \n"
     ]
    }
   ],
   "source": [
    "hotel_name_list = []\n",
    "hotel_data_list = []\n",
    "for url in hotel_agoda_url:\n",
    "    hotel_name, hotel_data = crawl_hotel(url)\n",
    "    print(hotel_name)\n",
    "    print(hotel_data)"
   ]
  },
  {
   "cell_type": "markdown",
   "metadata": {},
   "source": []
  },
  {
   "cell_type": "code",
   "execution_count": 15,
   "metadata": {},
   "outputs": [
    {
     "data": {
      "text/plain": [
       "'스탠포드 호텔 명동 (Stanford Hotel Myeongdong)'"
      ]
     },
     "execution_count": 15,
     "metadata": {},
     "output_type": "execute_result"
    }
   ],
   "source": [
    "hotel_name"
   ]
  },
  {
   "cell_type": "code",
   "execution_count": 21,
   "metadata": {},
   "outputs": [],
   "source": [
    "from selenium import webdriver\n",
    "from selenium.webdriver.chrome.options import Options\n",
    "from bs4 import BeautifulSoup\n",
    "import time\n",
    "import pandas as pd\n",
    "import re\n",
    "import json\n"
   ]
  },
  {
   "cell_type": "code",
   "execution_count": null,
   "metadata": {},
   "outputs": [],
   "source": [
    "\"https://www.booking.com/hotel/kr/skypark-myeongdong-3.ko.html?aid=304142&label=gen173nr-1FCAsofUIPZGF5cy1teWVvbmdkb25nSDNYBGh9iAEBmAEXuAEYyAEM2AEB6AEB-AELiAIBqAIEuAKPruatBsACAdICJGE4YWQ1NzdjLThmNmUtNDg1OS05YjE1LWEwMjI3YmI0ZGZhMtgCBuACAQ&sid=81105b28603c3b90fa1d90a67faa15cf&all_sr_blocks=30686002_0_2_0_0;checkin=2024-02-12;checkout=2024-02-13;dest_id=2000;dest_type=district;dist=0;group_adults=2;group_children=0;hapos=39;highlighted_blocks=30686002_0_2_0_0;hpos=14;matching_block_id=30686002_0_2_0_0;no_rooms=1;req_adults=2;req_children=0;room1=A%2CA;sb_price_type=total;sr_order=popularity;sr_pri_blocks=30686002_0_2_0_0__9212725;srepoch=1706661734;srpvid=d88d04cf3611006f;type=total;ucfs=1&#hotelTmpl\""
   ]
  },
  {
   "cell_type": "code",
   "execution_count": null,
   "metadata": {},
   "outputs": [],
   "source": [
    "skypark-myeongdong = \"https://www.booking.com/hotel/kr/skypark-myeongdong-3.ko.html?aid=304142&label=gen173nr-1FCAsofUIPZGF5cy1teWVvbmdkb25nSDNYBGh9iAEBmAEXuAEYyAEM2AEB6AEB-AELiAIBqAIEuAKPruatBsACAdICJGE4YWQ1NzdjLThmNmUtNDg1OS05YjE1LWEwMjI3YmI0ZGZhMtgCBuACAQ&sid=5d87229a7ee24a3fd704845ff215809a&age=0;all_sr_blocks=30686006_357521673_0_2_0;checkin=2024-03-18;checkout=2024-03-19;dest_id=-716583;dest_type=city;dist=0;group_adults=2;group_children=1;hapos=1;highlighted_blocks=30686006_357521673_0_2_0;hpos=1;matching_block_id=30686006_357521673_0_2_0;no_rooms=1;req_adults=2;req_age=0;req_children=1;room1=A%2CA%2C0;sb_price_type=total;sr_order=popularity;sr_pri_blocks=30686006_357521673_0_2_0__21517650;srepoch=1709882136;srpvid=005d3305b05e00fe;type=total;ucfs=1&#hotelTmpl\""
   ]
  },
  {
   "cell_type": "code",
   "execution_count": null,
   "metadata": {},
   "outputs": [],
   "source": []
  },
  {
   "cell_type": "code",
   "execution_count": null,
   "metadata": {},
   "outputs": [],
   "source": []
  },
  {
   "cell_type": "code",
   "execution_count": 60,
   "metadata": {},
   "outputs": [],
   "source": [
    " url_skypark = \"https://www.agoda.com/ko-kr/hotel-skypark-myeongdong-iii/hotel/seoul-kr.html?locale=ko-kr&ckuid=1022eee5-2d28-49d9-94dd-222cc3a34863&prid=0&currency=KRW&correlationId=4d62e6e4-45cf-4083-b16a-22fb8493895a&analyticsSessionId=3413072417843656440&pageTypeId=7&realLanguageId=9&languageId=9&origin=KR&cid=1555740&userId=1022eee5-2d28-49d9-94dd-222cc3a34863&whitelabelid=1&loginLvl=0&storefrontId=3&currencyId=26&currencyCode=KRW&htmlLanguage=ko-kr&cultureInfoName=ko-kr&machineName=hk-pc-2f-acm-web-user-d6bb476d-s56x8&trafficGroupId=4&sessionId=ibes3qvl3dku01qnvmrkoytq&trafficSubGroupId=6&aid=178961&useFullPageLogin=true&cttp=4&isRealUser=true&mode=production&browserFamily=Edge%20(Chromium)%20for%20Macintosh&cdnDomain=agoda.net&checkIn=2024-03-10&checkOut=2024-03-11&rooms=1&adults=2&childs=0&priceCur=KRW&los=1&textToSearch=%ED%98%B8%ED%85%94%20%EC%8A%A4%EC%B9%B4%EC%9D%B4%ED%8C%8C%ED%81%AC%20%EB%AA%85%EB%8F%99%203%ED%98%B8%EC%A0%90&productType=-1&travellerType=1&familyMode=off\""
   ]
  },
  {
   "cell_type": "code",
   "execution_count": null,
   "metadata": {},
   "outputs": [],
   "source": []
  },
  {
   "cell_type": "code",
   "execution_count": null,
   "metadata": {},
   "outputs": [],
   "source": []
  },
  {
   "cell_type": "code",
   "execution_count": null,
   "metadata": {},
   "outputs": [],
   "source": []
  },
  {
   "cell_type": "code",
   "execution_count": null,
   "metadata": {},
   "outputs": [],
   "source": []
  },
  {
   "cell_type": "code",
   "execution_count": null,
   "metadata": {},
   "outputs": [],
   "source": []
  },
  {
   "cell_type": "code",
   "execution_count": 74,
   "metadata": {},
   "outputs": [
    {
     "name": "stdout",
     "output_type": "stream",
     "text": [
      "<div class=\"RoomGrid false\" data-element-name=\"roomgrid\" data-selenium=\"roomgrid-container\" id=\"roomGrid\"><div class=\"RoomGrid-content\" data-selenium=\"RoomGrid-content\" id=\"roomGridContent\"><div><div class=\"RoomGrid-searchTimeOut\" data-element-name=\"room-grid-search-timeout\" data-element-suggest-date-available=\"false\"><img alt=\"\" class=\"RoomGrid-searchTimeOutImage\" src=\"https://cdn6.agoda.net/images/mvc/default/illustration-noroom.png\"/><div class=\"RoomGrid-searchTimeOutText\">죄송합니다. 고객님이 선택한 날짜에 이 숙소의 본 사이트 잔여 객실이 없습니다.</div><span class=\"RoomGrid-searchTimeOutAction\" data-element-name=\"change-your-dates-link\">날짜를 변경해 이 숙소 재검색하기</span><span class=\"RoomGrid-searchTimeOutText\">혹은</span><span class=\"RoomGrid-searchTimeOutAction\" data-element-name=\"see-available-properties-link\">동일한 날짜로 다른 숙소 검색하기</span></div></div></div></div>\n",
      "[]\n"
     ]
    }
   ],
   "source": [
    "url =  url_skypark\n",
    "\n",
    "options = Options()\n",
    "options.add_argument('--headless')\n",
    "options.add_argument('--no-sandbox')\n",
    "options.add_argument('--start-maximized')\n",
    "options.add_argument('detach = true')\n",
    "options.add_argument('--disable-blink-features=AutomationControlled')\n",
    "options.add_argument('--disable-dev-shm-usage')\n",
    "\n",
    "with webdriver.Chrome(options=options) as driver:\n",
    "    driver.get(url)\n",
    "    time.sleep(5)  # Waiting for page to load\n",
    "    html = driver.page_source\n",
    "\n",
    "soup = BeautifulSoup(html, \"html.parser\")\n",
    "hotel_name = soup.find(\"p\", {\"class\": \"HeaderCerebrum__Name\"}).text\n",
    "room_grid = soup.find(\"div\", {\"id\": \"roomGrid\"})\n",
    "print(room_grid)\n",
    "room_table = room_grid.find_all(\"div\", {\"class\": \"MasterRoom\"})\n",
    "print(room_table)\n",
    "\n",
    "df = pd.DataFrame(columns=[\"room_price\", \"room_name\", \"room_service\"])\n",
    "for room in room_table:\n",
    "    room_name = room.find(\"div\", {\"class\": \"MasterRoom-header\"}).text\n",
    "    room_service = room.find(\"div\", {\"class\": \"ChildRoomsList-room-featurebuckets\"}).text\n",
    "    room_price = room.find(\"div\", {\"class\": \"ChildRoom__PriceContainer\"}).text\n",
    "    room_price = self.extract_one_night_rate(room_price)\n",
    "    df.loc[len(df)] = [room_price, room_name, room_service]"
   ]
  },
  {
   "cell_type": "code",
   "execution_count": 67,
   "metadata": {},
   "outputs": [
    {
     "data": {
      "text/plain": [
       "[]"
      ]
     },
     "execution_count": 67,
     "metadata": {},
     "output_type": "execute_result"
    }
   ],
   "source": [
    "room_table"
   ]
  },
  {
   "cell_type": "code",
   "execution_count": 68,
   "metadata": {},
   "outputs": [
    {
     "data": {
      "text/plain": [
       "'호텔 스카이파크 명동 3호점 (Hotel Skypark Myeongdong III)'"
      ]
     },
     "execution_count": 68,
     "metadata": {},
     "output_type": "execute_result"
    }
   ],
   "source": [
    "hotel_name"
   ]
  },
  {
   "cell_type": "code",
   "execution_count": 69,
   "metadata": {},
   "outputs": [
    {
     "data": {
      "text/plain": [
       "[]"
      ]
     },
     "execution_count": 69,
     "metadata": {},
     "output_type": "execute_result"
    }
   ],
   "source": [
    "room_table"
   ]
  },
  {
   "cell_type": "code",
   "execution_count": 70,
   "metadata": {},
   "outputs": [
    {
     "data": {
      "text/plain": [
       "[]"
      ]
     },
     "execution_count": 70,
     "metadata": {},
     "output_type": "execute_result"
    }
   ],
   "source": [
    "soup.find_all(\"div\", {\"class\": \"MasterRoom-table\"})"
   ]
  },
  {
   "cell_type": "code",
   "execution_count": null,
   "metadata": {},
   "outputs": [],
   "source": []
  }
 ],
 "metadata": {
  "kernelspec": {
   "display_name": "torch2llm",
   "language": "python",
   "name": "python3"
  },
  "language_info": {
   "codemirror_mode": {
    "name": "ipython",
    "version": 3
   },
   "file_extension": ".py",
   "mimetype": "text/x-python",
   "name": "python",
   "nbconvert_exporter": "python",
   "pygments_lexer": "ipython3",
   "version": "3.10.13"
  }
 },
 "nbformat": 4,
 "nbformat_minor": 2
}
